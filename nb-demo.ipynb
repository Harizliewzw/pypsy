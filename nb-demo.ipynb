{
 "cells": [
  {
   "cell_type": "code",
   "execution_count": 1,
   "metadata": {},
   "outputs": [],
   "source": [
    "import numpy as np\n",
    "from psy import EmDina, MlDina\n",
    "from psy.utils import r4beta"
   ]
  },
  {
   "cell_type": "code",
   "execution_count": 2,
   "metadata": {},
   "outputs": [],
   "source": [
    "attrs = np.random.binomial(1, 0.5, (5, 60))\n",
    "skills = np.random.binomial(1, 0.7, (1000, 5))\n"
   ]
  },
  {
   "cell_type": "code",
   "execution_count": 3,
   "metadata": {},
   "outputs": [
    {
     "name": "stdout",
     "output_type": "stream",
     "text": [
      "[[1 1 1 0 0 1 0 0 0 0 0 0 1 0 0 1 0 0 1 1 1 1 0 0 0 1 1 1 0 0 1 0 0 0 1 1\n",
      "  1 1 1 1 0 1 1 0 1 1 1 0 1 0 0 1 1 0 0 0 1 0 1 0]\n",
      " [0 0 1 0 0 1 0 1 1 0 0 0 0 1 1 0 0 1 0 1 0 1 1 0 1 1 1 1 0 1 1 1 0 0 1 0\n",
      "  0 1 0 0 1 0 0 1 1 1 0 0 0 1 0 1 1 0 1 1 1 0 0 1]\n",
      " [0 0 1 1 1 0 1 0 0 1 1 1 0 1 0 1 0 1 0 1 0 1 0 0 0 1 0 0 0 0 1 1 0 0 0 1\n",
      "  0 0 1 1 0 0 1 1 0 0 1 0 0 1 1 1 0 0 1 0 1 0 0 1]\n",
      " [1 0 0 1 1 1 0 0 0 0 1 0 1 1 0 1 1 1 0 1 1 1 1 0 1 1 1 0 1 1 1 1 1 1 1 0\n",
      "  0 0 1 1 1 1 1 1 1 1 1 0 1 1 0 1 0 1 1 0 0 1 1 1]\n",
      " [1 1 1 0 1 1 0 1 0 0 0 1 0 1 1 0 0 0 1 1 0 0 0 0 0 0 0 1 1 1 0 1 0 0 0 1\n",
      "  0 0 1 1 1 1 0 0 0 1 0 0 1 1 0 1 1 0 1 1 0 1 0 1]]\n",
      "(5, 60)\n"
     ]
    }
   ],
   "source": [
    "print(attrs)\n",
    "print(attrs.shape)"
   ]
  },
  {
   "cell_type": "code",
   "execution_count": 4,
   "metadata": {},
   "outputs": [
    {
     "name": "stdout",
     "output_type": "stream",
     "text": [
      "[[1 1 1 1 1]\n",
      " [1 1 1 0 1]\n",
      " [1 1 1 1 1]\n",
      " ...\n",
      " [1 1 1 1 1]\n",
      " [1 1 1 1 1]\n",
      " [1 1 1 1 0]]\n",
      "(1000, 5)\n"
     ]
    }
   ],
   "source": [
    "print(skills)\n",
    "print(skills.shape)"
   ]
  },
  {
   "cell_type": "code",
   "execution_count": 5,
   "metadata": {},
   "outputs": [],
   "source": [
    "g = r4beta(1, 2, 0, 0, (1, 60))\n",
    "no_s = r4beta(2, 1, 1, 1, (1, 60))"
   ]
  },
  {
   "cell_type": "code",
   "execution_count": 6,
   "metadata": {},
   "outputs": [
    {
     "name": "stdout",
     "output_type": "stream",
     "text": [
      "[[0. 0. 0. 0. 0. 0. 0. 0. 0. 0. 0. 0. 0. 0. 0. 0. 0. 0. 0. 0. 0. 0. 0. 0.\n",
      "  0. 0. 0. 0. 0. 0. 0. 0. 0. 0. 0. 0. 0. 0. 0. 0. 0. 0. 0. 0. 0. 0. 0. 0.\n",
      "  0. 0. 0. 0. 0. 0. 0. 0. 0. 0. 0. 0.]]\n",
      "(1, 60)\n"
     ]
    }
   ],
   "source": [
    "print(g)\n",
    "\n",
    "print(g.shape)"
   ]
  },
  {
   "cell_type": "code",
   "execution_count": 7,
   "metadata": {},
   "outputs": [
    {
     "name": "stdout",
     "output_type": "stream",
     "text": [
      "[[1. 1. 1. 1. 1. 1. 1. 1. 1. 1. 1. 1. 1. 1. 1. 1. 1. 1. 1. 1. 1. 1. 1. 1.\n",
      "  1. 1. 1. 1. 1. 1. 1. 1. 1. 1. 1. 1. 1. 1. 1. 1. 1. 1. 1. 1. 1. 1. 1. 1.\n",
      "  1. 1. 1. 1. 1. 1. 1. 1. 1. 1. 1. 1.]]\n",
      "(1, 60)\n"
     ]
    }
   ],
   "source": [
    "print(no_s)\n",
    "print(no_s.shape)"
   ]
  },
  {
   "cell_type": "code",
   "execution_count": 10,
   "metadata": {},
   "outputs": [],
   "source": [
    "temp = EmDina(attrs=attrs)\n",
    "yita = temp.get_yita(skills)\n",
    "p_val = temp.get_p(yita, guess=g, no_slip=no_s)\n",
    "score = np.random.binomial(1, p_val)"
   ]
  },
  {
   "cell_type": "code",
   "execution_count": 8,
   "metadata": {},
   "outputs": [
    {
     "name": "stdout",
     "output_type": "stream",
     "text": [
      "[[1 1 1 0 0 1 0 0 0 0 0 0 1 0 0 1 0 0 1 1 1 1 0 0 0 1 1 1 0 0 1 0 0 0 1 1\n",
      "  1 1 1 1 0 1 1 0 1 1 1 0 1 0 0 1 1 0 0 0 1 0 1 0]\n",
      " [0 0 1 0 0 1 0 1 1 0 0 0 0 1 1 0 0 1 0 1 0 1 1 0 1 1 1 1 0 1 1 1 0 0 1 0\n",
      "  0 1 0 0 1 0 0 1 1 1 0 0 0 1 0 1 1 0 1 1 1 0 0 1]\n",
      " [0 0 1 1 1 0 1 0 0 1 1 1 0 1 0 1 0 1 0 1 0 1 0 0 0 1 0 0 0 0 1 1 0 0 0 1\n",
      "  0 0 1 1 0 0 1 1 0 0 1 0 0 1 1 1 0 0 1 0 1 0 0 1]\n",
      " [1 0 0 1 1 1 0 0 0 0 1 0 1 1 0 1 1 1 0 1 1 1 1 0 1 1 1 0 1 1 1 1 1 1 1 0\n",
      "  0 0 1 1 1 1 1 1 1 1 1 0 1 1 0 1 0 1 1 0 0 1 1 1]\n",
      " [1 1 1 0 1 1 0 1 0 0 0 1 0 1 1 0 0 0 1 1 0 0 0 0 0 0 0 1 1 1 0 1 0 0 0 1\n",
      "  0 0 1 1 1 1 0 0 0 1 0 0 1 1 0 1 1 0 1 1 0 1 0 1]]\n",
      "(5, 60)\n"
     ]
    }
   ],
   "source": [
    "# 60 items, 5 attributes\n",
    "\n",
    "print(attrs)\n",
    "print(attrs.shape)"
   ]
  },
  {
   "cell_type": "code",
   "execution_count": 11,
   "metadata": {},
   "outputs": [
    {
     "name": "stdout",
     "output_type": "stream",
     "text": [
      "[[1 1 1 ... 1 1 1]\n",
      " [0 1 1 ... 0 0 0]\n",
      " [1 1 1 ... 1 1 1]\n",
      " ...\n",
      " [1 1 1 ... 1 1 1]\n",
      " [1 1 1 ... 1 1 1]\n",
      " [0 0 0 ... 0 1 0]]\n",
      "(1000, 60)\n"
     ]
    }
   ],
   "source": [
    "print(score)\n",
    "print(score.shape)\n",
    "\n",
    "# 1000 students, 60 items, 5 attributes"
   ]
  },
  {
   "cell_type": "code",
   "execution_count": 12,
   "metadata": {},
   "outputs": [
    {
     "name": "stdout",
     "output_type": "stream",
     "text": [
      "9.501269215839159e-11\n",
      "5.435775604768265e-09\n"
     ]
    }
   ],
   "source": [
    "# Estimate the parameters\n",
    "em_dina = EmDina(attrs=attrs, score=score)\n",
    "est_no_s, est_g = em_dina.em()\n",
    "\n",
    "print(np.mean(np.abs(est_no_s - no_s)))\n",
    "print(np.mean(np.abs(est_g - g)))"
   ]
  },
  {
   "cell_type": "code",
   "execution_count": 13,
   "metadata": {},
   "outputs": [
    {
     "ename": "TypeError",
     "evalue": "__init__() missing 2 required positional arguments: 'guess' and 'no_slip'",
     "output_type": "error",
     "traceback": [
      "\u001b[0;31m---------------------------------------------------------------------------\u001b[0m",
      "\u001b[0;31mTypeError\u001b[0m                                 Traceback (most recent call last)",
      "\u001b[1;32m/Users/hariz/Datascience/suss/testing learning analytics repos/pypsy/nb-demo.ipynb Cell 12\u001b[0m line \u001b[0;36m2\n\u001b[1;32m      <a href='vscode-notebook-cell:/Users/hariz/Datascience/suss/testing%20learning%20analytics%20repos/pypsy/nb-demo.ipynb#X12sZmlsZQ%3D%3D?line=0'>1</a>\u001b[0m \u001b[39m# Estimate the student's skill mastery\u001b[39;00m\n\u001b[0;32m----> <a href='vscode-notebook-cell:/Users/hariz/Datascience/suss/testing%20learning%20analytics%20repos/pypsy/nb-demo.ipynb#X12sZmlsZQ%3D%3D?line=1'>2</a>\u001b[0m dina_est \u001b[39m=\u001b[39m MlDina(attrs\u001b[39m=\u001b[39;49mattrs, score\u001b[39m=\u001b[39;49mscore)\n\u001b[1;32m      <a href='vscode-notebook-cell:/Users/hariz/Datascience/suss/testing%20learning%20analytics%20repos/pypsy/nb-demo.ipynb#X12sZmlsZQ%3D%3D?line=2'>3</a>\u001b[0m est_skills \u001b[39m=\u001b[39m dina_est\u001b[39m.\u001b[39msolve()\n",
      "\u001b[0;31mTypeError\u001b[0m: __init__() missing 2 required positional arguments: 'guess' and 'no_slip'"
     ]
    }
   ],
   "source": [
    "\n",
    "# Estimate the student's skill mastery\n",
    "dina_est = MlDina(guess=est_g, no_slip=est_no_s, attrs=attrs, score=score)\n",
    "est_skills = dina_est.solve()"
   ]
  },
  {
   "cell_type": "code",
   "execution_count": null,
   "metadata": {},
   "outputs": [],
   "source": [
    "print(est_skills)\n",
    "print(est_skills.shape)"
   ]
  },
  {
   "cell_type": "code",
   "execution_count": null,
   "metadata": {},
   "outputs": [],
   "source": []
  }
 ],
 "metadata": {
  "kernelspec": {
   "display_name": "suss_task",
   "language": "python",
   "name": "python3"
  },
  "language_info": {
   "codemirror_mode": {
    "name": "ipython",
    "version": 3
   },
   "file_extension": ".py",
   "mimetype": "text/x-python",
   "name": "python",
   "nbconvert_exporter": "python",
   "pygments_lexer": "ipython3",
   "version": "3.9.13"
  },
  "orig_nbformat": 4
 },
 "nbformat": 4,
 "nbformat_minor": 2
}
